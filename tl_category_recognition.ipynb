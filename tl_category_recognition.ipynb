{
  "nbformat": 4,
  "nbformat_minor": 0,
  "metadata": {
    "colab": {
      "name": "tl_category_recognition.ipynb",
      "provenance": [],
      "collapsed_sections": [
        "LLtbpQRqD4m7",
        "qdfkeauID9mN",
        "-b7r8yYOPHMt",
        "Obt2pe5ogCGb"
      ],
      "machine_shape": "hm",
      "authorship_tag": "ABX9TyNd5bCeNbtkzr5dTNEzxuHt",
      "include_colab_link": true
    },
    "kernelspec": {
      "display_name": "Python 3",
      "name": "python3"
    },
    "language_info": {
      "name": "python"
    },
    "accelerator": "GPU"
  },
  "cells": [
    {
      "cell_type": "markdown",
      "metadata": {
        "id": "view-in-github",
        "colab_type": "text"
      },
      "source": [
        "<a href=\"https://colab.research.google.com/github/Sergey10603/tl_open/blob/main/tl_category_recognition.ipynb\" target=\"_parent\"><img src=\"https://colab.research.google.com/assets/colab-badge.svg\" alt=\"Open In Colab\"/></a>"
      ]
    },
    {
      "cell_type": "markdown",
      "metadata": {
        "id": "LLtbpQRqD4m7"
      },
      "source": [
        "## Скачивание данных"
      ]
    },
    {
      "cell_type": "code",
      "metadata": {
        "id": "Boeiya_2DpvF"
      },
      "source": [
        "# библиотеки\n",
        "\n",
        "import zipfile\n",
        "import numpy as np\n",
        "import pandas as pd\n",
        "import os\n",
        "import csv\n",
        "import shutil\n",
        "import glob\n",
        "import matplotlib.pyplot as plt\n",
        "from google.colab import drive\n",
        "from google.colab import files\n",
        "import tensorflow as tf\n",
        "from tensorflow.keras.preprocessing import image\n",
        "from tensorflow.keras.applications import VGG16\n",
        "from tensorflow.keras.preprocessing.image import ImageDataGenerator\n",
        "from tensorflow.keras import models\n",
        "from tensorflow.keras import layers"
      ],
      "execution_count": 1,
      "outputs": []
    },
    {
      "cell_type": "code",
      "metadata": {
        "id": "y-Ja6_IQC0B-"
      },
      "source": [
        "# удаление папки со всем содержимым\n",
        "try:\n",
        "  shutil.rmtree(dir)\n",
        "except:\n",
        "  pass"
      ],
      "execution_count": 2,
      "outputs": []
    },
    {
      "cell_type": "code",
      "metadata": {
        "id": "CiLpU6EMEmUf"
      },
      "source": [
        "# переменные\n",
        "\n",
        "img_size = 150\n",
        "batch_size = 20\n",
        "\n",
        "dir = '/content/data/'\n",
        "\n",
        "path_train = \"data_train\"\n",
        "path_validation = \"data_validation\""
      ],
      "execution_count": 3,
      "outputs": []
    },
    {
      "cell_type": "code",
      "metadata": {
        "colab": {
          "base_uri": "https://localhost:8080/"
        },
        "id": "5O7QheR__fxz",
        "outputId": "dc642b5e-9951-4612-8226-5682c25add7f"
      },
      "source": [
        "# подключаем гугл диск\n",
        "\n",
        "drive.mount('/content/drive', force_remount = True)"
      ],
      "execution_count": 4,
      "outputs": [
        {
          "output_type": "stream",
          "text": [
            "Mounted at /content/drive\n"
          ],
          "name": "stdout"
        }
      ]
    },
    {
      "cell_type": "code",
      "metadata": {
        "id": "2rqOjaU3_tHR"
      },
      "source": [
        "# создаем папку для файлов\n",
        "\n",
        "!mkdir /content/data"
      ],
      "execution_count": 5,
      "outputs": []
    },
    {
      "cell_type": "code",
      "metadata": {
        "id": "ZjZhyfwcAkJS"
      },
      "source": [
        "# разархивируем архив (из гугл диска в Colab)\n",
        "\n",
        "# путь к файлу с архивом\n",
        "dir_zip = '/content/drive/MyDrive/Colab Notebooks/projects/tl_category_recognition/lights.zip'\n",
        "# путь к файлу с результатом\n",
        "dir_res = dir\n",
        "\n",
        "z = zipfile.ZipFile(dir_zip, 'r')\n",
        "z.extractall(dir_res)"
      ],
      "execution_count": 6,
      "outputs": []
    },
    {
      "cell_type": "markdown",
      "metadata": {
        "id": "qdfkeauID9mN"
      },
      "source": [
        "## Подготовка данных"
      ]
    },
    {
      "cell_type": "code",
      "metadata": {
        "id": "o4M__0CtED9h"
      },
      "source": [
        "# создаем структуру папок\n",
        "\n",
        "# создаем деррикторию для обучающей выборки\n",
        "try:\n",
        "    os.mkdir(dir + path_train)\n",
        "except:\n",
        "    pass\n",
        "\n",
        "# создаем деррикторию для контрольной группы\n",
        "try:\n",
        "    os.mkdir(dir + path_validation)\n",
        "except:\n",
        "    pass\n",
        "\n",
        "# создаем папки в дерриктории для обучающей выборки\n",
        "try:\n",
        "    os.mkdir(dir + path_train + \"/cell\")\n",
        "except:\n",
        "    pass\n",
        "try:\n",
        "    os.mkdir(dir + path_train + \"/nastol\")\n",
        "except:\n",
        "    pass\n",
        "try:\n",
        "    os.mkdir(dir + path_train + \"/podves\")\n",
        "except:\n",
        "    pass\n",
        "\n",
        "# создаем папки в дерриктории для контрольной группы\n",
        "try:\n",
        "    os.mkdir(dir + path_validation + \"/cell\")\n",
        "except:\n",
        "    pass\n",
        "try:\n",
        "    os.mkdir(dir + path_validation + \"/nastol\")\n",
        "except:\n",
        "    pass\n",
        "try:\n",
        "    os.mkdir(dir + path_validation + \"/podves\")\n",
        "except:\n",
        "    pass"
      ],
      "execution_count": 7,
      "outputs": []
    },
    {
      "cell_type": "code",
      "metadata": {
        "id": "DEsezxvqF67P"
      },
      "source": [
        "# раскладываем изображения по папкам\n",
        "\n",
        "# каждую S картинку берем в контрольную группу\n",
        "step = 7\n",
        "\n",
        "# получаем список папок (категорий)\n",
        "all_folders = os.listdir(dir + \"lights/\")\n",
        "\n",
        "# проходимся в цикле по всемпапкам\n",
        "for folder in all_folders:\n",
        "\n",
        "  # смотрим все названия изображений в этой папке\n",
        "  all_imgs = os.listdir(dir + \"lights/\" + folder + \"/\")\n",
        "\n",
        "  # перебираем изображения\n",
        "  i = 0\n",
        "  for img in all_imgs:\n",
        "    i += 1\n",
        "\n",
        "    if i == step:\n",
        "      # помещаем в тестовую группу\n",
        "      old_path = dir + 'lights/' + folder + \"/\" + img\n",
        "      new_path = dir + path_validation + \"/\" + folder + \"/\" + img\n",
        "\n",
        "      # проверка изображения на существование в новой папке\n",
        "      if os.path.exists(new_path) == False:\n",
        "        shutil.copyfile(old_path, new_path)\n",
        "        i = 0\n",
        "    else:\n",
        "      # помещаем в обучающую группу\n",
        "      old_path = dir + 'lights/' + folder + \"/\" + img\n",
        "      new_path = dir + path_train + \"/\" + folder + \"/\" + img\n",
        "\n",
        "\n",
        "      # проверка изображения на существование в новой папке\n",
        "      if os.path.exists(new_path) == False:\n",
        "        shutil.copyfile(old_path, new_path)"
      ],
      "execution_count": 8,
      "outputs": []
    },
    {
      "cell_type": "code",
      "metadata": {
        "colab": {
          "base_uri": "https://localhost:8080/"
        },
        "id": "aHfNm1JKNCGP",
        "outputId": "51a510a0-3530-4b86-b59e-808342ff6dbc"
      },
      "source": [
        "# проверяем сколько изображений в папках\n",
        "\n",
        "# получаем список папок (категорий)\n",
        "all_folders = os.listdir(dir + \"lights/\")\n",
        "\n",
        "# считаем кол-во папок, так как дальше пригодится\n",
        "count_categories = len(all_folders)\n",
        "\n",
        "count_imgs_train = 0\n",
        "count_imgs_validation = 0\n",
        "\n",
        "# проходимся в цикле по всем папкам\n",
        "for folder in all_folders:\n",
        "  print('/--' + str(folder) + '--/')\n",
        "  print(str(len(glob.glob(dir + path_train + '/' + folder + '/*'))) + ' (train)')\n",
        "  print(str(len(glob.glob(dir + path_validation + '/' + folder + '/*'))) + ' (validation)')\n",
        "  print('\\n')\n",
        "\n",
        "  # заодно подсчитываем сколько всех изображений в обучающей и контрольных группах (папках)\n",
        "  count_imgs_train += len(glob.glob(dir + path_train + '/' + folder + '/*'))\n",
        "  count_imgs_validation += len(glob.glob(dir + path_validation + '/' + folder + '/*'))\n",
        "\n",
        "\n",
        "print(str(count_imgs_train) + ' (count_imgs_train)')\n",
        "print(str(count_imgs_validation) + ' (count_imgs_validation)')"
      ],
      "execution_count": 9,
      "outputs": [
        {
          "output_type": "stream",
          "text": [
            "/--cell--/\n",
            "2371 (train)\n",
            "395 (validation)\n",
            "\n",
            "\n",
            "/--podves--/\n",
            "4033 (train)\n",
            "672 (validation)\n",
            "\n",
            "\n",
            "/--nastol--/\n",
            "1114 (train)\n",
            "185 (validation)\n",
            "\n",
            "\n",
            "7518 (count_imgs_train)\n",
            "1252 (count_imgs_validation)\n"
          ],
          "name": "stdout"
        }
      ]
    },
    {
      "cell_type": "code",
      "metadata": {
        "colab": {
          "base_uri": "https://localhost:8080/"
        },
        "id": "UF6OqnUQOX3K",
        "outputId": "2921647a-8c72-4f4e-afdf-d54cdd454bbd"
      },
      "source": [
        "# изображения (для обучения)\n",
        "\n",
        "# масштабируем значения с коэффициентом 1/255\n",
        "train_datagen = ImageDataGenerator(\n",
        "    rescale=1./255, \n",
        "    rotation_range=40,\n",
        "    width_shift_range=0.2,\n",
        "    height_shift_range=0.2,\n",
        "    shear_range=0.2,\n",
        "    zoom_range=0.2,\n",
        "    horizontal_flip=True,\n",
        "    # fill_mode = 'nearest'\n",
        ")\n",
        "\n",
        "train_generator = train_datagen.flow_from_directory(\n",
        "    dir + path_train,\n",
        "    target_size=(img_size, img_size), \n",
        "    batch_size=batch_size,\n",
        "    class_mode=\"categorical\",\n",
        "    # interpolation=\"nearest\",\n",
        "    # shuffle = True\n",
        ")"
      ],
      "execution_count": 10,
      "outputs": [
        {
          "output_type": "stream",
          "text": [
            "Found 7518 images belonging to 3 classes.\n"
          ],
          "name": "stdout"
        }
      ]
    },
    {
      "cell_type": "code",
      "metadata": {
        "colab": {
          "base_uri": "https://localhost:8080/"
        },
        "id": "PH7cJ2pIO6WG",
        "outputId": "8c3dfec3-860f-47ee-e3dc-cea20564258f"
      },
      "source": [
        "# изображения (для проверки)\n",
        "\n",
        "# масштабируем значения с коэффициентом 1/255\n",
        "validation_datagen = ImageDataGenerator(rescale=1./255)\n",
        "\n",
        "validation_generator = validation_datagen.flow_from_directory(\n",
        "    dir + path_validation,\n",
        "    target_size=(img_size, img_size), \n",
        "    batch_size=batch_size,\n",
        "    class_mode=\"categorical\",\n",
        "    # interpolation=\"nearest\",\n",
        "    # shuffle = True\n",
        ")"
      ],
      "execution_count": 11,
      "outputs": [
        {
          "output_type": "stream",
          "text": [
            "Found 1252 images belonging to 3 classes.\n"
          ],
          "name": "stdout"
        }
      ]
    },
    {
      "cell_type": "code",
      "metadata": {
        "colab": {
          "base_uri": "https://localhost:8080/"
        },
        "id": "Ms4DQyZhzzCW",
        "outputId": "76c2903f-57c4-4264-e953-4b41bd38c42f"
      },
      "source": [
        "# названия классов\n",
        "\n",
        "dict_class = train_generator.class_indices\n",
        "\n",
        "# для удобства поворачиваем словарь\n",
        "name_class = {}\n",
        "for key, value in dict_class.items():\n",
        "  name_class[value] = key\n",
        "\n",
        "print(name_class)"
      ],
      "execution_count": 12,
      "outputs": [
        {
          "output_type": "stream",
          "text": [
            "{0: 'cell', 1: 'nastol', 2: 'podves'}\n"
          ],
          "name": "stdout"
        }
      ]
    },
    {
      "cell_type": "markdown",
      "metadata": {
        "id": "-b7r8yYOPHMt"
      },
      "source": [
        "## Нейронная сеть"
      ]
    },
    {
      "cell_type": "code",
      "metadata": {
        "colab": {
          "base_uri": "https://localhost:8080/"
        },
        "id": "H6fhH09j6Zxt",
        "outputId": "a08ee8cf-68e0-4a18-88bb-9713dc7ac102"
      },
      "source": [
        "# создаем экземпляр сверточной нейронной сети VGG16\n",
        "\n",
        "conv_base = VGG16(weights='imagenet', include_top=False, input_shape=(img_size, img_size, 3))\n"
      ],
      "execution_count": 13,
      "outputs": [
        {
          "output_type": "stream",
          "text": [
            "Downloading data from https://storage.googleapis.com/tensorflow/keras-applications/vgg16/vgg16_weights_tf_dim_ordering_tf_kernels_notop.h5\n",
            "58892288/58889256 [==============================] - 0s 0us/step\n"
          ],
          "name": "stdout"
        }
      ]
    },
    {
      "cell_type": "code",
      "metadata": {
        "id": "W7V-O7VoJfPM"
      },
      "source": [
        "from tensorflow.keras.models import Sequential\n",
        "from tensorflow.keras.layers import GlobalAveragePooling2D, Flatten, Dense, Dropout, BatchNormalization\n",
        "from tensorflow.keras.optimizers import RMSprop, Adam\n",
        "from tensorflow.keras.callbacks import EarlyStopping, ModelCheckpoint, ReduceLROnPlateau\n",
        "from tensorflow.keras.applications import EfficientNetB3"
      ],
      "execution_count": 17,
      "outputs": []
    },
    {
      "cell_type": "code",
      "metadata": {
        "id": "y78JrG61Jj1s"
      },
      "source": [
        "# архетиктура нейронной сети\n",
        "\n",
        "# network = Sequential()\n",
        "# network.add(EfficientNetB3(input_shape = (img_size, img_size, 3), include_top = False,\n",
        "#                         weights = 'imagenet',\n",
        "#                         drop_connect_rate=0.6))\n",
        "# network.add(GlobalAveragePooling2D())\n",
        "# network.add(Flatten())\n",
        "# network.add(Dense(256, activation = 'relu', bias_regularizer=tf.keras.regularizers.L1L2(l1=0.01, l2=0.001)))\n",
        "# network.add(Dropout(0.5))\n",
        "# network.add(Dense(count_categories, activation = 'softmax'))"
      ],
      "execution_count": 246,
      "outputs": []
    },
    {
      "cell_type": "code",
      "metadata": {
        "id": "rn0JBVY9PJOY"
      },
      "source": [
        "# архетиктура нейронной сети\n",
        "\n",
        "\n",
        "network = models.Sequential()\n",
        "\n",
        "network.add(conv_base)\n",
        "network.add(layers.Flatten())\n",
        "network.add(layers.Dense(256, activation='relu'))\n",
        "network.add(layers.Dense(count_categories, activation='softmax'))\n",
        "\n",
        "\n",
        "# архетиктура нейронной сети\n",
        "\n",
        "# network = models.Sequential()\n",
        "\n",
        "# network.add(layers.Conv2D(32, (3, 3), activation='relu', input_shape=(img_size, img_size, 3)))\n",
        "# network.add(layers.MaxPooling2D((2, 2)))\n",
        "\n",
        "# network.add(layers.Conv2D(64, (3, 3), activation='relu'))\n",
        "# network.add(layers.MaxPooling2D((2, 2)))\n",
        "\n",
        "# network.add(layers.Conv2D(128, (3, 3), activation='relu'))\n",
        "# network.add(layers.MaxPooling2D((2, 2)))\n",
        "\n",
        "# network.add(layers.Conv2D(128, (3, 3), activation='relu'))\n",
        "# network.add(layers.MaxPooling2D((2, 2)))\n",
        "\n",
        "# добавляем классификатор\n",
        "# network.add(layers.Flatten())\n",
        "# network.add(layers.Dropout(0.5))\n",
        "# network.add(layers.Dense(512, activation='relu'))\n",
        "# network.add(layers.Dense(count_categories, activation='softmax'))"
      ],
      "execution_count": 18,
      "outputs": []
    },
    {
      "cell_type": "code",
      "metadata": {
        "id": "srtvCvbV8W6g"
      },
      "source": [
        "# network.summary()"
      ],
      "execution_count": 223,
      "outputs": []
    },
    {
      "cell_type": "code",
      "metadata": {
        "colab": {
          "base_uri": "https://localhost:8080/"
        },
        "id": "ilXHOI5PLbUE",
        "outputId": "ac24a00a-52b3-4ebd-8d05-d23253790c01"
      },
      "source": [
        "loss = tf.keras.losses.CategoricalCrossentropy(\n",
        "    from_logits = False, \n",
        "    label_smoothing=0.0001, \n",
        "    name='categorical_crossentropy')\n",
        "\n",
        "network.compile(\n",
        "    optimizer = Adam(learning_rate = 1e-3), \n",
        "    loss = loss, \n",
        "    metrics = ['categorical_accuracy'])\n",
        "\n",
        "# Остановить обучение, когда val_loss перестанет уменьшаться в течение 3 эпох.\n",
        "es = EarlyStopping(\n",
        "    monitor='val_loss', \n",
        "    mode='min', \n",
        "    patience=3,\n",
        "    restore_best_weights=True, \n",
        "    verbose=1)\n",
        "\n",
        "# Сохраняем модель с минимальной потерей\n",
        "checkpoint_cb = ModelCheckpoint(\n",
        "    \"tl_category_recognition_best_model.h5\", \n",
        "    save_best_only=True, \n",
        "    monitor = 'val_loss', \n",
        "    mode='min')\n",
        "\n",
        "# снижаем скорость обучения\n",
        "reduce_lr = ReduceLROnPlateau(\n",
        "    monitor = 'val_loss', \n",
        "    factor = 0.2, \n",
        "    patience = 2, \n",
        "    min_lr = 1e-6, \n",
        "    mode = 'min', \n",
        "    verbose = 1)\n",
        "\n",
        "history = network.fit(\n",
        "    train_generator, \n",
        "    validation_data = validation_generator, \n",
        "    epochs= 50, \n",
        "    batch_size = batch_size, \n",
        "    steps_per_epoch = count_imgs_train // batch_size,\n",
        "    validation_steps = count_imgs_validation // batch_size, \n",
        "    callbacks=[es, checkpoint_cb, reduce_lr])\n",
        "\n",
        "network.save('tl_category_recognition'+'.h5')  "
      ],
      "execution_count": 19,
      "outputs": [
        {
          "output_type": "stream",
          "text": [
            "Epoch 1/50\n",
            "375/375 [==============================] - 69s 138ms/step - loss: 1.0645 - categorical_accuracy: 0.6158 - val_loss: 0.5398 - val_categorical_accuracy: 0.7976\n",
            "Epoch 2/50\n",
            "375/375 [==============================] - 51s 135ms/step - loss: 0.6398 - categorical_accuracy: 0.7418 - val_loss: 0.6026 - val_categorical_accuracy: 0.7597\n",
            "Epoch 3/50\n",
            "375/375 [==============================] - 50s 134ms/step - loss: 0.5165 - categorical_accuracy: 0.8087 - val_loss: 0.3164 - val_categorical_accuracy: 0.8968\n",
            "Epoch 4/50\n",
            "375/375 [==============================] - 50s 133ms/step - loss: 0.3922 - categorical_accuracy: 0.8586 - val_loss: 0.2605 - val_categorical_accuracy: 0.9194\n",
            "Epoch 5/50\n",
            "375/375 [==============================] - 50s 134ms/step - loss: 0.3563 - categorical_accuracy: 0.8733 - val_loss: 0.2562 - val_categorical_accuracy: 0.9161\n",
            "Epoch 6/50\n",
            "375/375 [==============================] - 51s 135ms/step - loss: 0.3608 - categorical_accuracy: 0.8649 - val_loss: 0.3001 - val_categorical_accuracy: 0.8935\n",
            "Epoch 7/50\n",
            "375/375 [==============================] - 50s 133ms/step - loss: 0.3361 - categorical_accuracy: 0.8810 - val_loss: 0.2817 - val_categorical_accuracy: 0.9056\n",
            "\n",
            "Epoch 00007: ReduceLROnPlateau reducing learning rate to 0.00020000000949949026.\n",
            "Epoch 8/50\n",
            "375/375 [==============================] - 51s 135ms/step - loss: 0.2429 - categorical_accuracy: 0.9165 - val_loss: 0.1689 - val_categorical_accuracy: 0.9444\n",
            "Epoch 9/50\n",
            "375/375 [==============================] - 51s 135ms/step - loss: 0.2288 - categorical_accuracy: 0.9210 - val_loss: 0.1815 - val_categorical_accuracy: 0.9371\n",
            "Epoch 10/50\n",
            "375/375 [==============================] - 49s 132ms/step - loss: 0.2171 - categorical_accuracy: 0.9244 - val_loss: 0.1701 - val_categorical_accuracy: 0.9387\n",
            "\n",
            "Epoch 00010: ReduceLROnPlateau reducing learning rate to 4.0000001899898055e-05.\n",
            "Epoch 11/50\n",
            "375/375 [==============================] - 50s 134ms/step - loss: 0.2061 - categorical_accuracy: 0.9282 - val_loss: 0.1654 - val_categorical_accuracy: 0.9419\n",
            "Epoch 12/50\n",
            "375/375 [==============================] - 51s 135ms/step - loss: 0.1899 - categorical_accuracy: 0.9379 - val_loss: 0.1588 - val_categorical_accuracy: 0.9468\n",
            "Epoch 13/50\n",
            "375/375 [==============================] - 50s 134ms/step - loss: 0.1984 - categorical_accuracy: 0.9338 - val_loss: 0.1646 - val_categorical_accuracy: 0.9427\n",
            "Epoch 14/50\n",
            "375/375 [==============================] - 50s 134ms/step - loss: 0.1879 - categorical_accuracy: 0.9340 - val_loss: 0.1558 - val_categorical_accuracy: 0.9460\n",
            "Epoch 15/50\n",
            "375/375 [==============================] - 50s 134ms/step - loss: 0.1868 - categorical_accuracy: 0.9362 - val_loss: 0.1571 - val_categorical_accuracy: 0.9468\n",
            "Epoch 16/50\n",
            "375/375 [==============================] - 50s 132ms/step - loss: 0.1837 - categorical_accuracy: 0.9384 - val_loss: 0.1522 - val_categorical_accuracy: 0.9476\n",
            "Epoch 17/50\n",
            "375/375 [==============================] - 50s 132ms/step - loss: 0.1803 - categorical_accuracy: 0.9380 - val_loss: 0.1505 - val_categorical_accuracy: 0.9484\n",
            "Epoch 18/50\n",
            "375/375 [==============================] - 51s 135ms/step - loss: 0.1785 - categorical_accuracy: 0.9387 - val_loss: 0.1497 - val_categorical_accuracy: 0.9484\n",
            "Epoch 19/50\n",
            "375/375 [==============================] - 51s 135ms/step - loss: 0.1773 - categorical_accuracy: 0.9385 - val_loss: 0.1493 - val_categorical_accuracy: 0.9492\n",
            "Epoch 20/50\n",
            "375/375 [==============================] - 51s 135ms/step - loss: 0.1729 - categorical_accuracy: 0.9403 - val_loss: 0.1584 - val_categorical_accuracy: 0.9468\n",
            "Epoch 21/50\n",
            "375/375 [==============================] - 50s 134ms/step - loss: 0.1736 - categorical_accuracy: 0.9389 - val_loss: 0.1488 - val_categorical_accuracy: 0.9452\n",
            "Epoch 22/50\n",
            "375/375 [==============================] - 51s 135ms/step - loss: 0.1693 - categorical_accuracy: 0.9429 - val_loss: 0.1446 - val_categorical_accuracy: 0.9500\n",
            "Epoch 23/50\n",
            "375/375 [==============================] - 49s 132ms/step - loss: 0.1731 - categorical_accuracy: 0.9404 - val_loss: 0.1513 - val_categorical_accuracy: 0.9427\n",
            "Epoch 24/50\n",
            "375/375 [==============================] - 50s 134ms/step - loss: 0.1733 - categorical_accuracy: 0.9395 - val_loss: 0.1455 - val_categorical_accuracy: 0.9500\n",
            "\n",
            "Epoch 00024: ReduceLROnPlateau reducing learning rate to 8.000000525498762e-06.\n",
            "Epoch 25/50\n",
            "375/375 [==============================] - 51s 135ms/step - loss: 0.1658 - categorical_accuracy: 0.9428 - val_loss: 0.1445 - val_categorical_accuracy: 0.9468\n",
            "Epoch 26/50\n",
            "375/375 [==============================] - 50s 134ms/step - loss: 0.1594 - categorical_accuracy: 0.9452 - val_loss: 0.1449 - val_categorical_accuracy: 0.9500\n",
            "\n",
            "Epoch 00026: ReduceLROnPlateau reducing learning rate to 1.6000001778593287e-06.\n",
            "Epoch 27/50\n",
            "375/375 [==============================] - 51s 135ms/step - loss: 0.1590 - categorical_accuracy: 0.9476 - val_loss: 0.1473 - val_categorical_accuracy: 0.9492\n",
            "Epoch 28/50\n",
            "375/375 [==============================] - 51s 135ms/step - loss: 0.1583 - categorical_accuracy: 0.9471 - val_loss: 0.1435 - val_categorical_accuracy: 0.9492\n",
            "Epoch 29/50\n",
            "375/375 [==============================] - 50s 132ms/step - loss: 0.1569 - categorical_accuracy: 0.9457 - val_loss: 0.1495 - val_categorical_accuracy: 0.9492\n",
            "Epoch 30/50\n",
            "375/375 [==============================] - 50s 133ms/step - loss: 0.1624 - categorical_accuracy: 0.9444 - val_loss: 0.1490 - val_categorical_accuracy: 0.9492\n",
            "\n",
            "Epoch 00030: ReduceLROnPlateau reducing learning rate to 1e-06.\n",
            "Epoch 31/50\n",
            "375/375 [==============================] - 51s 135ms/step - loss: 0.1586 - categorical_accuracy: 0.9451 - val_loss: 0.1449 - val_categorical_accuracy: 0.9492\n",
            "Restoring model weights from the end of the best epoch.\n",
            "Epoch 00031: early stopping\n"
          ],
          "name": "stdout"
        }
      ]
    },
    {
      "cell_type": "code",
      "metadata": {
        "id": "ua989d8qPbrh"
      },
      "source": [
        "# # компилируем\n",
        "# network.compile(\n",
        "#     loss='categorical_crossentropy', \n",
        "#     optimizer='adam', \n",
        "#     metrics=['accuracy']\n",
        "# )"
      ],
      "execution_count": 20,
      "outputs": []
    },
    {
      "cell_type": "code",
      "metadata": {
        "id": "jmFoj23ZPetA"
      },
      "source": [
        "#  обучаем\n",
        "\n",
        "# чем меньше группа тем большую важность мы ей даем (на глаз), чтобы не душили крупные группы\n",
        "# class_weight = {\n",
        "#     0: 2, \n",
        "#     1: 3, \n",
        "#     2: 1}\n",
        "\n",
        "# history = network.fit(\n",
        "#     train_generator,\n",
        "#     steps_per_epoch=count_imgs_train // batch_size,\n",
        "#     epochs=10,\n",
        "#     validation_data=validation_generator,\n",
        "#     validation_steps=count_imgs_validation // batch_size,\n",
        "#     # class_weight=class_weight,\n",
        "# )"
      ],
      "execution_count": 21,
      "outputs": []
    },
    {
      "cell_type": "code",
      "metadata": {
        "colab": {
          "base_uri": "https://localhost:8080/",
          "height": 682
        },
        "id": "jadkAvlcx-pr",
        "outputId": "18fd7e48-9cce-4846-8991-0180dda2986c"
      },
      "source": [
        "# графики\n",
        "\n",
        "def Train_Val_Plot(acc,val_acc,loss,val_loss):\n",
        "    \n",
        "    fig, (ax1, ax2) = plt.subplots(1,2, figsize= (15,10))\n",
        "    fig.suptitle(\" MODEL'S METRICS VISUALIZATION \", fontsize=20)\n",
        "\n",
        "    ax1.plot(range(1, len(acc) + 1), acc)\n",
        "    ax1.plot(range(1, len(val_acc) + 1), val_acc)\n",
        "    ax1.set_title('History of Accuracy', fontsize=15)\n",
        "    ax1.set_xlabel('Epochs', fontsize=15)\n",
        "    ax1.set_ylabel('Accuracy', fontsize=15)\n",
        "    ax1.legend(['training', 'validation'])\n",
        "\n",
        "\n",
        "    ax2.plot(range(1, len(loss) + 1), loss)\n",
        "    ax2.plot(range(1, len(val_loss) + 1), val_loss)\n",
        "    ax2.set_title('History of Loss', fontsize=15)\n",
        "    ax2.set_xlabel('Epochs', fontsize=15)\n",
        "    ax2.set_ylabel('Loss', fontsize=15)\n",
        "    ax2.legend(['training', 'validation'])\n",
        "    plt.show()\n",
        "    \n",
        "\n",
        "Train_Val_Plot(\n",
        "    history.history['categorical_accuracy'], \n",
        "    history.history['val_categorical_accuracy'], \n",
        "    history.history['loss'], \n",
        "    history.history['val_loss'])"
      ],
      "execution_count": 23,
      "outputs": [
        {
          "output_type": "display_data",
          "data": {
            "image/png": "[encoded data removed]",
            "text/plain": [
              "<Figure size 1080x720 with 2 Axes>"
            ]
          },
          "metadata": {
            "tags": [],
            "needs_background": "light"
          }
        }
      ]
    },
    {
      "cell_type": "code",
      "metadata": {
        "id": "XI1DC4FSWddx"
      },
      "source": [
        "# график точности на этапах обучения и контроля\n",
        "\n",
        "# history_dict = history.history\n",
        "\n",
        "# epochs = range(1, len(history_dict['accuracy']) + 1)\n",
        "\n",
        "# plt.clf()\n",
        "# accuracy_values = history_dict['accuracy']\n",
        "# val_accuracy_values = history_dict['val_accuracy']\n",
        "\n",
        "# plt.plot(epochs, accuracy_values, 'bo', label='Traiining accuracy')\n",
        "# plt.plot(epochs, val_accuracy_values, 'b', label='Validation accuracy')\n",
        "# plt.title('Training and validation accuracy')\n",
        "# plt.xlabel('Epochs')\n",
        "# plt.ylabel('Accuracy')\n",
        "# plt.legend()\n",
        "# plt.show()"
      ],
      "execution_count": 24,
      "outputs": []
    },
    {
      "cell_type": "code",
      "metadata": {
        "id": "4ONds0xMXMpP"
      },
      "source": [
        "# сохраняем нейронку\n",
        "\n",
        "# network.save('tl_category_recognition.h5')"
      ],
      "execution_count": 25,
      "outputs": []
    },
    {
      "cell_type": "markdown",
      "metadata": {
        "id": "Obt2pe5ogCGb"
      },
      "source": [
        "## Распознаем свое изображение"
      ]
    },
    {
      "cell_type": "code",
      "metadata": {
        "colab": {
          "resources": {
            "http://localhost:8080/nbextensions/google.colab/files.js": {
              "data": "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",
              "ok": true,
              "headers": [
                [
                  "content-type",
                  "application/javascript"
                ]
              ],
              "status": 200,
              "status_text": ""
            }
          },
          "base_uri": "https://localhost:8080/",
          "height": 73
        },
        "id": "6WQHZ8I9gBuf",
        "outputId": "96cc3ce1-7ecf-4142-c007-53ee9db174e6"
      },
      "source": [
        "# выбираем картинку\n",
        "\n",
        "inf_img = files.upload()"
      ],
      "execution_count": 26,
      "outputs": [
        {
          "output_type": "display_data",
          "data": {
            "text/html": [
              "\n",
              "     <input type=\"file\" id=\"files-6ab4fa05-44af-4689-bd29-3607ea28fc97\" name=\"files[]\" multiple disabled\n",
              "        style=\"border:none\" />\n",
              "     <output id=\"result-6ab4fa05-44af-4689-bd29-3607ea28fc97\">\n",
              "      Upload widget is only available when the cell has been executed in the\n",
              "      current browser session. Please rerun this cell to enable.\n",
              "      </output>\n",
              "      <script src=\"/nbextensions/google.colab/files.js\"></script> "
            ],
            "text/plain": [
              "<IPython.core.display.HTML object>"
            ]
          },
          "metadata": {
            "tags": []
          }
        },
        {
          "output_type": "stream",
          "text": [
            "Saving 1093-3TL_syneil.png to 1093-3TL_syneil.png\n"
          ],
          "name": "stdout"
        }
      ]
    },
    {
      "cell_type": "code",
      "metadata": {
        "colab": {
          "base_uri": "https://localhost:8080/",
          "height": 35
        },
        "id": "DAeCDm8gg18M",
        "outputId": "45ad6a5c-9167-4729-b032-90205abe20e6"
      },
      "source": [
        "# получаем название загруженного изображения\n",
        "img_path = ''\n",
        "\n",
        "for key, value in inf_img.items():\n",
        "  img_path = key\n",
        "\n",
        "img_path"
      ],
      "execution_count": 27,
      "outputs": [
        {
          "output_type": "execute_result",
          "data": {
            "application/vnd.google.colaboratory.intrinsic+json": {
              "type": "string"
            },
            "text/plain": [
              "'1093-3TL_syneil.png'"
            ]
          },
          "metadata": {
            "tags": []
          },
          "execution_count": 27
        }
      ]
    },
    {
      "cell_type": "code",
      "metadata": {
        "colab": {
          "base_uri": "https://localhost:8080/"
        },
        "id": "mqhAzwZ7iz4a",
        "outputId": "5a52d152-786a-4015-a081-d543c9c69c7f"
      },
      "source": [
        "# преобразуем картинку для обработки нейронной сетью\n",
        "\n",
        "img = image.load_img(img_path, target_size=(img_size, img_size))\n",
        "img_tenzor = image.img_to_array(img)\n",
        "img_tenzor = np.expand_dims(img_tenzor, axis=0)\n",
        "img_tenzor /= 255\n",
        "\n",
        "# форма\n",
        "img_tenzor.shape"
      ],
      "execution_count": 28,
      "outputs": [
        {
          "output_type": "execute_result",
          "data": {
            "text/plain": [
              "(1, 150, 150, 3)"
            ]
          },
          "metadata": {
            "tags": []
          },
          "execution_count": 28
        }
      ]
    },
    {
      "cell_type": "code",
      "metadata": {
        "colab": {
          "base_uri": "https://localhost:8080/",
          "height": 269
        },
        "id": "GgsYrz33o6fg",
        "outputId": "574982e8-0925-45d5-9555-55a2d96da84f"
      },
      "source": [
        "# смотрим на картинку\n",
        "\n",
        "plt.imshow(img_tenzor[0])\n",
        "plt.show()"
      ],
      "execution_count": 29,
      "outputs": [
        {
          "output_type": "display_data",
          "data": {
            "image/png": "[encoded data removed]",
            "text/plain": [
              "<Figure size 432x288 with 1 Axes>"
            ]
          },
          "metadata": {
            "tags": [],
            "needs_background": "light"
          }
        }
      ]
    },
    {
      "cell_type": "code",
      "metadata": {
        "id": "GMQJniNBjB2K",
        "colab": {
          "base_uri": "https://localhost:8080/"
        },
        "outputId": "8f4678e5-9112-4100-a632-51251b66322c"
      },
      "source": [
        "# распознаем\n",
        "\n",
        "prediction = network.predict(img_tenzor)\n",
        "\n",
        "prediction"
      ],
      "execution_count": 30,
      "outputs": [
        {
          "output_type": "execute_result",
          "data": {
            "text/plain": [
              "array([[1.5371240e-04, 9.9983573e-01, 1.0515582e-05]], dtype=float32)"
            ]
          },
          "metadata": {
            "tags": []
          },
          "execution_count": 30
        }
      ]
    },
    {
      "cell_type": "code",
      "metadata": {
        "colab": {
          "base_uri": "https://localhost:8080/"
        },
        "id": "L3gGaQMmpayt",
        "outputId": "139b3fae-50d9-4e54-aadb-e2bf45d392f8"
      },
      "source": [
        "# отображаем прогноз соответствия картинки каждой из категорий\n",
        "\n",
        "for id, name in name_class.items():\n",
        "  val = prediction[0][id]\n",
        "  print(name + ' -> ' + str(val))\n"
      ],
      "execution_count": 31,
      "outputs": [
        {
          "output_type": "stream",
          "text": [
            "cell -> 0.0001537124\n",
            "nastol -> 0.9998357\n",
            "podves -> 1.0515582e-05\n"
          ],
          "name": "stdout"
        }
      ]
    },
    {
      "cell_type": "code",
      "metadata": {
        "colab": {
          "base_uri": "https://localhost:8080/"
        },
        "id": "0QDp5BbgqqS2",
        "outputId": "bb638691-5c77-44c0-a331-2d80a54e01f1"
      },
      "source": [
        "# Макс результат у класса\n",
        "\n",
        "id_class_max = np.argmax(prediction)\n",
        "print(\"MAX класс:\", name_class[id_class_max])"
      ],
      "execution_count": 32,
      "outputs": [
        {
          "output_type": "stream",
          "text": [
            "MAX класс: nastol\n"
          ],
          "name": "stdout"
        }
      ]
    }
  ]
}